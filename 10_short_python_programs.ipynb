{
  "nbformat": 4,
  "nbformat_minor": 0,
  "metadata": {
    "colab": {
      "name": "10 short python programs",
      "provenance": [],
      "collapsed_sections": [
        "AY8cE1T3Rt-P",
        "fmEqvKocSA89",
        "EIHidcYvRJgX",
        "qWmxx6fWSS2I",
        "3MvR0-qbSZ7F",
        "hBvUhnDETSP-",
        "k2umbZMQRB02",
        "6fHorFlCSuJl",
        "JBtxe8EQRYF8",
        "lJVgnYc1QyOV"
      ],
      "authorship_tag": "ABX9TyMnpmayYqacGnF1D4n0oHVf",
      "include_colab_link": true
    },
    "kernelspec": {
      "name": "python3",
      "display_name": "Python 3"
    },
    "language_info": {
      "name": "python"
    }
  },
  "cells": [
    {
      "cell_type": "markdown",
      "metadata": {
        "id": "view-in-github",
        "colab_type": "text"
      },
      "source": [
        "<a href=\"https://colab.research.google.com/github/JessicaOjo/Short-python-programs/blob/main/10_short_python_programs.ipynb\" target=\"_parent\"><img src=\"https://colab.research.google.com/assets/colab-badge.svg\" alt=\"Open In Colab\"/></a>"
      ]
    },
    {
      "cell_type": "markdown",
      "source": [
        "### Palindrome strings"
      ],
      "metadata": {
        "id": "AY8cE1T3Rt-P"
      }
    },
    {
      "cell_type": "code",
      "source": [
        "# Palindrome statements\n",
        "print(\"This program recognizes Palindrome word and numbers\")\n",
        "sentence = input(\"Write a statement: \")\n",
        "string = str(sentence).lower()\n",
        "\n",
        "# compare string with it's reverse\n",
        "if string[0:] == string[::-1]:\n",
        "    print(\"This statement is a Palindrome\")\n",
        "    \n",
        "else:\n",
        "    print(\"This statement is not a Palindrome\")"
      ],
      "metadata": {
        "colab": {
          "base_uri": "https://localhost:8080/"
        },
        "id": "Si3-Gm-ARq8G",
        "outputId": "5cf50d90-2ee0-4101-a165-f6ad94205773"
      },
      "execution_count": 2,
      "outputs": [
        {
          "output_type": "stream",
          "name": "stdout",
          "text": [
            "This program recognizes Palindrome word and numbers\n",
            "Write a statement: 1881\n",
            "This statement is a Palindrome\n"
          ]
        }
      ]
    },
    {
      "cell_type": "markdown",
      "source": [
        "### Opposite case\n"
      ],
      "metadata": {
        "id": "fmEqvKocSA89"
      }
    },
    {
      "cell_type": "code",
      "source": [
        "# Change uppercase to lowercase with no function\n",
        "print(\"This program changes any letter to it's opposite case\")\n",
        "sentence = input(\"Write a statement: \")\n",
        "g = \"\"\n",
        "for string in sentence:\n",
        "    for i in string:\n",
        "        if ord(i) >= 65 and ord(i) <= 90:\n",
        "            x = ord(i) + 32\n",
        "            y = chr(x)\n",
        "            g+=y\n",
        "            \n",
        "        elif ord(i) >= 97:\n",
        "            x = ord(i) - 32\n",
        "            y = chr(x)\n",
        "            g+=y\n",
        "            \n",
        "        else:\n",
        "            g+=i\n",
        "print(g)"
      ],
      "metadata": {
        "id": "zOY2RnUTSAN7"
      },
      "execution_count": null,
      "outputs": []
    },
    {
      "cell_type": "markdown",
      "source": [
        "### String starts and stops with the same letter\n"
      ],
      "metadata": {
        "id": "EIHidcYvRJgX"
      }
    },
    {
      "cell_type": "code",
      "source": [
        "# check if a word starts and ends with the same letter\n",
        "print(\"This program checks if a word starts and ends with the same letter\")\n",
        "word = input('Write a word: ')\n",
        "\n",
        "# import re module\n",
        "import re\n",
        " \n",
        "# the regular  expression\n",
        "regex = r'^[a-z]$|^([a-z]).*\\1$'\n",
        "\n",
        "if re.search(regex, word): \n",
        "    print(f\"{word} starts and ends with {word[0]}\") \n",
        "else: \n",
        "    print(f\"{word} does not start and end with the same letter\") "
      ],
      "metadata": {
        "id": "fLiiFscZQskF"
      },
      "execution_count": null,
      "outputs": []
    },
    {
      "cell_type": "markdown",
      "source": [
        "### Prime numbers"
      ],
      "metadata": {
        "id": "qWmxx6fWSS2I"
      }
    },
    {
      "cell_type": "code",
      "source": [
        "# Finding prime numbers\n",
        "print(\"This program recognizes prime numbers\")\n",
        "number = int(input(\"Write a number: \"))\n",
        "count = []\n",
        "\n",
        "for num in range(2, number):\n",
        "    check = number % num\n",
        "    count.append(check)\n",
        "    \n",
        "if 0 in count:\n",
        "    print(f\"{number} is not a prime number\")\n",
        "    \n",
        "else:\n",
        "    print(f\"{number} is a prime number\")"
      ],
      "metadata": {
        "id": "rc6u-iLTSVV3"
      },
      "execution_count": null,
      "outputs": []
    },
    {
      "cell_type": "markdown",
      "source": [
        "### Prime factors"
      ],
      "metadata": {
        "id": "3MvR0-qbSZ7F"
      }
    },
    {
      "cell_type": "code",
      "source": [
        "# Prime factors of a number\n",
        "print(\"This program finds the prime factors of any number\")\n",
        "number = int(input(\"Write a number: \"))\n",
        "print(f\"The prime factors of {number} is: \")\n",
        "for num in range(2,number+1):\n",
        "    # find the factors of the number\n",
        "    if number % num == 0:\n",
        "        count = 1\n",
        "        \n",
        "        # check if the factors are prime numbers\n",
        "        for i in range(2, (num//2 +1)):\n",
        "            if num%i == 0:\n",
        "                count = 0\n",
        "                \n",
        "        # print only factors that are prime numbers        \n",
        "        if count == 1:\n",
        "            print(num)"
      ],
      "metadata": {
        "id": "K32VTljkSY88"
      },
      "execution_count": null,
      "outputs": []
    },
    {
      "cell_type": "markdown",
      "source": [
        "### HCF and LCM"
      ],
      "metadata": {
        "id": "hBvUhnDETSP-"
      }
    },
    {
      "cell_type": "code",
      "execution_count": null,
      "metadata": {
        "id": "BhbRxwSiP2n2"
      },
      "outputs": [],
      "source": [
        "# find HCF and LCM of two numbers\n",
        "choice = input(\"Choose operation - HCF or LCM: \")\n",
        "if (choice.lower() != \"hcf\") and (choice.lower() != \"lcm\"):\n",
        "    print(\"Invalid operation\")\n",
        "else:\n",
        "    a = int(input(\"Enter the first number: \"))\n",
        "    b = int(input(\"Enter the second number: \"))\n",
        "\n",
        "    HCF = 1\n",
        "\n",
        "    for i in range(2,a+1):\n",
        "        if(a%i==0 and b%i==0):\n",
        "            HCF = i\n",
        "\n",
        "    LCM = int((a*b)/(HCF))\n",
        "\n",
        "    if choice.lower() == \"hcf\":\n",
        "        print(f\"The HCF of {a} and {b} = {HCF}\")\n",
        "    elif choice.lower() == \"lcm\":\n",
        "        print(f\"LCM of {a} and {b} = {LCM}\")"
      ]
    },
    {
      "cell_type": "markdown",
      "source": [
        "### Password Checker"
      ],
      "metadata": {
        "id": "k2umbZMQRB02"
      }
    },
    {
      "cell_type": "code",
      "source": [
        "# Categorizing password as Strong or Weak \n",
        "\n",
        "import re\n",
        "  \n",
        "# Function to categorize password\n",
        "def check_password(v): \n",
        "    # the password should not be a newline or space\n",
        "    if v == \"\\n\" or v == \" \":\n",
        "        return \"Password cannot be a newline or space!\"\n",
        "   \n",
        "    # the password length should be in between 9 and 20\n",
        "    if 9 <= len(v) <= 20:\n",
        "   \n",
        "        # check if a character repeats three or more times in a row\n",
        "        if re.search(r'(.)\\1\\1', v):\n",
        "            return \"Weak Password: Same character repeats three or more times in a row\"\n",
        "   \n",
        "        # check if the same string pattern repeats more than two times\n",
        "        if re.search(r'(..)(.*?)\\1', v):\n",
        "            return \"Weak password: Same string pattern repetition\"\n",
        "   \n",
        "        else:\n",
        "            return \"Strong Password!\"\n",
        "   \n",
        "    else:\n",
        "        return \"Password length must be 9-20 characters!\"\n",
        "\n",
        "password = input(\"Write suggested password: \")\n",
        "print(check_password(password))"
      ],
      "metadata": {
        "id": "uI6agoJSQsha"
      },
      "execution_count": null,
      "outputs": []
    },
    {
      "cell_type": "markdown",
      "source": [
        "### Rock Paper Scissors"
      ],
      "metadata": {
        "id": "6fHorFlCSuJl"
      }
    },
    {
      "cell_type": "code",
      "source": [
        "# Rock Paper Scissors\n",
        "print (\"Hello! Lets play a game. \\n\"\n",
        "      \"Its my favorite game called Rock Paper Scissors. \\n\")\n",
        "\n",
        "name = input(\"Before we begin, what is your name?: \")\n",
        "print(f\"Hello {name}, the length of your name is {len(name)}\")\n",
        "\n",
        "# import random module\n",
        "import random\n",
        "\n",
        "while True:\n",
        "    # check if gamer is ready to play\n",
        "    print(\"Are you ready to play? Yes/No\")\n",
        "    mood = input().lower()\n",
        "    if mood == \"yes\":\n",
        "        print(\"GAME STARTS NOW!\")\n",
        "    elif mood == \"no\":\n",
        "        print(\"Maybe someother time\")\n",
        "        break\n",
        "    else:\n",
        "        print(\"Invalid\")\n",
        "        break\n",
        "    \n",
        "    # set a random choice for smarty \n",
        "    hand=(\"rock\", \"paper\", \"scissors\")\n",
        "    smarty = hand[random.randint(0,2)]\n",
        "    \n",
        "    gamer = False\n",
        "    \n",
        "    # scores starts at 0\n",
        "    g= 0\n",
        "    s= 0\n",
        "    \n",
        "    # the program plays 5 rounds then counts score\n",
        "    for gamer in range(5):\n",
        "        gamer == False\n",
        "        \n",
        "        print('CHOOSE: Rock Paper or Scissors')\n",
        "        gamer = input().lower()\n",
        "        \n",
        "        if gamer == smarty:\n",
        "            print('Tie! \\n')\n",
        "            \n",
        "        elif gamer == 'rock':\n",
        "            if smarty == 'paper':\n",
        "                s+=1\n",
        "                print(f'{smarty.title()} covers {gamer.title()} \\nYOU LOSE!! \\n ')\n",
        "                \n",
        "            else:\n",
        "                g+=1\n",
        "                print(f'{gamer.title()} smashes {smarty.title()} \\nYOU WIN! Gonna get you next time\\n')\n",
        "                \n",
        "        elif gamer == 'paper':\n",
        "            if smarty == 'scissors':\n",
        "                s+=1\n",
        "                print(f'{smarty.title()} cuts {gamer.title()} \\nYOU LOSE!! \\n')\n",
        "                \n",
        "            else:\n",
        "                g+=1\n",
        "                print(f'{gamer.title()} covers {smarty.title()} \\nYOU WIN! Gonna get you next time\\n')\n",
        "                \n",
        "        elif gamer == 'scissors':\n",
        "            if smarty == 'rock':\n",
        "                s+=1\n",
        "                print(f'{smarty.title()} smashes {gamer.title()} \\nYOU LOSE!! \\n')\n",
        "                \n",
        "            else:\n",
        "                g+=1\n",
        "                print(f'{gamer.title()} cuts {smarty.title()} \\nYOU WIN! Gonna get you next time\\n')\n",
        "                \n",
        "        else:\n",
        "            print('Invalid, try again')\n",
        "            break\n",
        " \n",
        "        gamer = False\n",
        "        smartass = hand[random.randint(0,2)]\n",
        "    # count the score \n",
        "    if g > s:\n",
        "        print(f'WINNER! \\n{name} beats Computer: {g}-{s}')\n",
        "    elif g < s:\n",
        "        print(f'LOSER! \\nComputer beats {name}: {s}-{g}')\n",
        "    else:\n",
        "        print(f'TIE! \\nDecent player: {g}-{s}')\n",
        "\n",
        "    print('\\n')\n",
        "    # check if gamer wants to go another round\n",
        "    # break while loop if no \n",
        "    again = input('Wanna go again? Yes/No: ').lower()\n",
        "    if again == 'yes':\n",
        "        continue\n",
        "    else:\n",
        "        break"
      ],
      "metadata": {
        "id": "Yx1--9wlSww-"
      },
      "execution_count": null,
      "outputs": []
    },
    {
      "cell_type": "markdown",
      "source": [
        "### Simple Python Calculator\n"
      ],
      "metadata": {
        "id": "JBtxe8EQRYF8"
      }
    },
    {
      "cell_type": "code",
      "source": [
        "# A simple python calculator\n",
        "def add(x, y):\n",
        "    return x + y\n",
        "\n",
        "# This function subtracts two numbers\n",
        "def subtract(x, y):\n",
        "    return x - y\n",
        "\n",
        "# This function multiplies two numbers\n",
        "def multiply(x, y):\n",
        "    return x * y\n",
        "\n",
        "# This function divides two numbers\n",
        "def divide(x, y):\n",
        "    return x / y\n",
        "\n",
        "# This function finds the modulus\n",
        "def modulus(x, y):\n",
        "    return x % y\n",
        "\n",
        "# This function finds the exponents\n",
        "def exponential(x, y):\n",
        "    return x ** y\n",
        "\n",
        "print(\"Select operation.\\n\"\n",
        "      \"1.Add \\n\"\n",
        "      \"2.Subtract \\n\"\n",
        "      \"3.Multiply \\n\"\n",
        "      \"4.Divide \\n\"\n",
        "      \"5.Modulus \\n\"\n",
        "      \"6.Exponential \\n\")\n",
        "\n",
        "while True:\n",
        "    # take input from the user\n",
        "    choice = int(input(\"Enter choice(1/2/3/4/5/6): \"))\n",
        "\n",
        "    # check if choice is one of the four options\n",
        "    if choice in range(1,7):\n",
        "        num1 = float(input(\"Enter first number: \"))\n",
        "        num2 = float(input(\"Enter second number: \"))\n",
        "\n",
        "        if choice == 1:\n",
        "            print(num1, \"+\", num2, \"=\", add(num1, num2))\n",
        "\n",
        "        elif choice == 2:\n",
        "            print(num1, \"-\", num2, \"=\", subtract(num1, num2))\n",
        "\n",
        "        elif choice == 3:\n",
        "            print(num1, \"*\", num2, \"=\", multiply(num1, num2))\n",
        "\n",
        "        elif choice == 4:\n",
        "            print(num1, \"/\", num2, \"=\", divide(num1, num2))\n",
        "            \n",
        "        elif choice == 5:\n",
        "            print(num1, \"%\", num2, \"=\", modulus(num1, num2))\n",
        "\n",
        "        elif choice == 6:\n",
        "            print(num1, \"^\", num2, \"=\", exponential(num1, num2))\n",
        "            \n",
        "        # check if user wants another calculation\n",
        "        # break the while loop if answer is no\n",
        "        next_calculation = input(\"Let's do next calculation? (yes/no): \")\n",
        "        if next_calculation == \"no\":\n",
        "            break\n",
        "        \n",
        "    else:\n",
        "        print(\"Invalid Input\")"
      ],
      "metadata": {
        "id": "YvswHwJwQsm0"
      },
      "execution_count": null,
      "outputs": []
    },
    {
      "cell_type": "markdown",
      "source": [
        "### Lap Timer\n"
      ],
      "metadata": {
        "id": "lJVgnYc1QyOV"
      }
    },
    {
      "cell_type": "code",
      "source": [
        "# This creates a lap timer\n",
        "''' This program starts a timer when run,\n",
        "breaks it into laps when ENTER key is pressed,\n",
        "stops when CTRL+C or whatever keyboard shortcut you use to interrupt is pressed'''\n",
        "\n",
        "import time\n",
        "  \n",
        "# Start timer\n",
        "starttime=time.time()\n",
        "lasttime=starttime\n",
        "lapnum=1\n",
        "  \n",
        "print(\"Press ENTER to count laps.\\nPress CTRL+C to stop\")\n",
        "  \n",
        "try:\n",
        "     while True:\n",
        "              \n",
        "        # Input for the ENTER key press\n",
        "        input()\n",
        "\n",
        "        # The current lap-time\n",
        "        laptime=round((time.time() - lasttime), 2)\n",
        "\n",
        "        # Total time elapsed since the timer started\n",
        "        totaltime=round((time.time() - starttime), 2)\n",
        "        \n",
        "        print(f\"Lap No. {str(lapnum)} \\n\"\n",
        "              f\"Total Time: {str(totaltime)} \\n\"\n",
        "              f\"Lap Time: {str(laptime)}\")\n",
        "\n",
        "        print(\"*\"*20)\n",
        "\n",
        "        # Update the previous total time and lap number\n",
        "        lasttime=time.time()\n",
        "        lapnum+=1\n",
        "\n",
        "# Stop when CTRL+C is pressed\n",
        "except KeyboardInterrupt:\n",
        "     print(\"Done\")"
      ],
      "metadata": {
        "id": "z-Aap1LQQsfH"
      },
      "execution_count": null,
      "outputs": []
    },
    {
      "cell_type": "code",
      "source": [
        ""
      ],
      "metadata": {
        "id": "TRl8bQeGQswm"
      },
      "execution_count": null,
      "outputs": []
    }
  ]
}